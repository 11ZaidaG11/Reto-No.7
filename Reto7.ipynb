{
 "cells": [
  {
   "cell_type": "markdown",
   "metadata": {},
   "source": [
    "1. Imprimir un listado con los números del 1 al 100 cada uno con su respectivo cuadrado."
   ]
  },
  {
   "cell_type": "code",
   "execution_count": null,
   "metadata": {},
   "outputs": [],
   "source": [
    "if __name__ == \"__main__\":\n",
    "    for i in range(1, 101): \n",
    "        cuadrado = i**2\n",
    "        print(f\"{i} → {cuadrado}\")"
   ]
  },
  {
   "cell_type": "markdown",
   "metadata": {},
   "source": [
    "2. Imprimir un listado con los números impares desde 1 hasta 999 y seguidamente otro listado con los números pares desde 2 hasta 1000."
   ]
  },
  {
   "cell_type": "code",
   "execution_count": null,
   "metadata": {},
   "outputs": [],
   "source": [
    "if __name__ == \"__main__\":\n",
    "    print(\"Impares:\")\n",
    "    for i in range(1, 1000, 2): # Como hace step de 2 comenzando por 1 mostrara los impares\n",
    "        print(i, end = \" \") # Para impimir todo en una linea\n",
    "\n",
    "    print(\"\\nPares:\")\n",
    "    for i in range(2, 1001, 2): # Como hace step de 2 comenzando por 2 mostrara los pares\n",
    "        print(i, end = \" \")"
   ]
  },
  {
   "cell_type": "markdown",
   "metadata": {},
   "source": [
    "3. Imprimir los números pares en forma descendente hasta 2 que son menores o iguales a un número natural n ≥ 2 dado."
   ]
  },
  {
   "cell_type": "code",
   "execution_count": null,
   "metadata": {},
   "outputs": [],
   "source": [
    "def pares(numero:int):\n",
    "    if numero >= 2: # Condición de que el numero ingresaado sea >= 2\n",
    "        for i in range(numero, 1, -1): # For descendente de n hasta 2\n",
    "            if i % 2 == 0: # Si el numero es par print\n",
    "                print(i)\n",
    "        return i\n",
    "    else:\n",
    "        print(\"Error, ingrese unn numero mayor o igual que 2\") \n",
    "\n",
    "if __name__ == \"__main__\":\n",
    "    numero = int(input(\"Ingrese un numero mayor o igual que 2: \"))\n",
    "    resultado = pares(numero)"
   ]
  },
  {
   "cell_type": "markdown",
   "metadata": {},
   "source": [
    "4. Imprimir los números de 1 hasta un número natural n dado, cada uno con su respectivo factorial."
   ]
  },
  {
   "cell_type": "code",
   "execution_count": null,
   "metadata": {},
   "outputs": [],
   "source": [
    "def calcular_factorial(numero:int):\n",
    "    factorial : int = 1 # Inicializar\n",
    "    for i in range(1, numero + 1): # For del 1 hasta el numero ingresado\n",
    "        factorial *= i # Multiplica todos los numeros del for\n",
    "        print(f\"{i} → {factorial}\")\n",
    "    return factorial\n",
    "\n",
    "if __name__ == \"__main__\":\n",
    "    numero = int(input(\"Ingrese un numero natural: \"))\n",
    "    resultado = calcular_factorial(numero)"
   ]
  },
  {
   "cell_type": "markdown",
   "metadata": {},
   "source": [
    "5. Calcular el valor de 2 elevado a la potencia n usando ciclos for."
   ]
  },
  {
   "cell_type": "code",
   "execution_count": null,
   "metadata": {},
   "outputs": [],
   "source": [
    "def potencia(n:int):\n",
    "    elevado = 1 # Inicializar \n",
    "    for i in range(1, n + 1):\n",
    "        elevado *= 2 # multicación de 2 en bucle n veces\n",
    "    return elevado\n",
    "\n",
    "if __name__ == \"__main__\":\n",
    "    n = int(input(\"Ingrese un numero\"))\n",
    "    resultado = potencia(n)\n",
    "    print(resultado)"
   ]
  },
  {
   "cell_type": "markdown",
   "metadata": {},
   "source": [
    "6. Leer un número natural n, leer otro dato de tipo real x y calcular x^n usando ciclos for. Disclaimer: Trate de no utilizar el operador de potencia (**)."
   ]
  },
  {
   "cell_type": "code",
   "execution_count": null,
   "metadata": {},
   "outputs": [
    {
     "name": "stdout",
     "output_type": "stream",
     "text": [
      "1024.0\n"
     ]
    }
   ],
   "source": [
    "def potencia(n:int, x:float):\n",
    "    elevado : float = 1 # Inicializar\n",
    "    for i in range(1, n + 1):\n",
    "        elevado *= x # Multiplicación de x en bucle n veces\n",
    "    return elevado\n",
    "    \n",
    "\n",
    "if __name__ == \"__main__\":\n",
    "    x = float(input(\"Ingrese la base: \"))\n",
    "    n = int(input(\"Ingrese la potencia: \"))\n",
    "    resultado = potencia(n, x)\n",
    "    print(resultado)"
   ]
  },
  {
   "cell_type": "markdown",
   "metadata": {},
   "source": [
    "7. Diseñe un programa que muestre las tablas de multiplicar del 1 al 9."
   ]
  },
  {
   "cell_type": "code",
   "execution_count": null,
   "metadata": {},
   "outputs": [],
   "source": [
    "def tablas():\n",
    "    for i in range(1, 10): # Numero a multiplicar\n",
    "        print(f\"\\nTabla del {i}\")\n",
    "        for j in range(1,11): # Multiplicador\n",
    "            multiplicacion = j * i\n",
    "            print(f\"{i} * {j} = {multiplicacion}\")\n",
    "    return multiplicacion\n",
    "\n",
    "if __name__ == \"__main__\":\n",
    "    resultado = tablas()"
   ]
  },
  {
   "cell_type": "markdown",
   "metadata": {},
   "source": [
    "8. Diseñar una función que permita calcular una aproximación de la función exponencial alrededor de 0 para cualquier valor x (real), utilizando los primeros n términos de la serie de Taylor. Nota: use math para traer la función exponencial y mostrar la diferencia entre el valor real y la aproximación."
   ]
  },
  {
   "cell_type": "code",
   "execution_count": null,
   "metadata": {},
   "outputs": [],
   "source": [
    "import math\n",
    "\n",
    "\n",
    "def factorial(n:int): \n",
    "    fac : int = 1 \n",
    "    for i in range(1, n + 1):\n",
    "        fac *= i\n",
    "    return fac\n",
    "    \n",
    "def serie_taylor(x:float, n:int):\n",
    "    suma : float = 0 # Inicializar\n",
    "    for i in range(0, n + 1):\n",
    "        denominador = factorial(i) # Usar función factorial en i\n",
    "        suma += x**i / denominador # Sumatoria, según formula\n",
    "    return suma\n",
    "\n",
    "if __name__ == \"__main__\":\n",
    "    x = float(input(\"Ingrese el valor de la potencia: \"))\n",
    "    n = int(input(\"Ingrese otro numero: \"))\n",
    "\n",
    "    fun_exp = math.exp(x) # Función exponencial\n",
    "    aproximacion = serie_taylor(x, n)\n",
    "    error = aproximacion - fun_exp # Calcular la diferencia\n",
    "\n",
    "    print(f\"Aproximación: {aproximacion}\")\n",
    "    print(f\"Función exponencial: {fun_exp}\")\n",
    "    print(f\"Diferencia: {error}\")\n"
   ]
  },
  {
   "cell_type": "markdown",
   "metadata": {},
   "source": [
    "9. Diseñar una función que permita calcular una aproximación de la función seno alrededor de 0 para cualquier valor x (real), utilizando los primeros n términos de la serie de Maclaurin. Nota: use math para traer la función seno y mostrar la diferencia entre el valor real y la aproximación."
   ]
  },
  {
   "cell_type": "code",
   "execution_count": null,
   "metadata": {},
   "outputs": [],
   "source": [
    "import math\n",
    "\n",
    "\n",
    "def factorial(n:int):\n",
    "    fac : int = 1 \n",
    "    for i in range(1, n + 1):\n",
    "        fac *= i\n",
    "    return fac\n",
    "\n",
    "def serie_maclaurin(x:float, n:int):\n",
    "    suma = 0 # Inicializar\n",
    "    for i in range(0, n + 1):\n",
    "        dem = 2 * i + 1\n",
    "        numerador = x ** (2 * i + 1)\n",
    "        denominador = factorial(dem) # Saca factorial del denominador\n",
    "        suma += (-1)**i * (numerador / denominador) # Sumatoria, según formula\n",
    "    return suma\n",
    "\n",
    "if __name__ == \"__main__\":\n",
    "    x = float(input(\"Ingrese un numero: \"))\n",
    "    n = int(input(\"Ingrese otro numero\"))\n",
    "\n",
    "    fun_seno = math.sin(x) # Función seno\n",
    "    aproximacion = serie_maclaurin(x, n)\n",
    "    error = aproximacion - fun_seno # Calcular la diferencia\n",
    "\n",
    "    print(f\"Aproximación: {aproximacion}\")\n",
    "    print(f\"Función exponencial: {fun_seno}\")\n",
    "    print(f\"Diferencia: {error}\")"
   ]
  }
 ],
 "metadata": {
  "kernelspec": {
   "display_name": "Python 3",
   "language": "python",
   "name": "python3"
  },
  "language_info": {
   "codemirror_mode": {
    "name": "ipython",
    "version": 3
   },
   "file_extension": ".py",
   "mimetype": "text/x-python",
   "name": "python",
   "nbconvert_exporter": "python",
   "pygments_lexer": "ipython3",
   "version": "3.12.8"
  }
 },
 "nbformat": 4,
 "nbformat_minor": 2
}
